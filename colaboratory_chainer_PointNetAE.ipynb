{
  "nbformat": 4,
  "nbformat_minor": 0,
  "metadata": {
    "colab": {
      "name": "colaboratory-chainer-PointNetAE.ipynb",
      "version": "0.3.2",
      "provenance": [],
      "collapsed_sections": [],
      "include_colab_link": true
    },
    "kernelspec": {
      "name": "python3",
      "display_name": "Python 3"
    },
    "accelerator": "GPU"
  },
  "cells": [
    {
      "cell_type": "markdown",
      "metadata": {
        "id": "view-in-github",
        "colab_type": "text"
      },
      "source": [
        "<a href=\"https://colab.research.google.com/github/Obarads/chainer-pointnet-autoencoder/blob/master/colaboratory_chainer_PointNetAE.ipynb\" target=\"_parent\"><img src=\"https://colab.research.google.com/assets/colab-badge.svg\" alt=\"Open In Colab\"/></a>"
      ]
    },
    {
      "metadata": {
        "id": "lCvNfV18EVFd",
        "colab_type": "text"
      },
      "cell_type": "markdown",
      "source": [
        "# Colaboratory Chainer-PointNetAE"
      ]
    },
    {
      "metadata": {
        "id": "NCiVzb33E_At",
        "colab_type": "text"
      },
      "cell_type": "markdown",
      "source": [
        "## 1. GPUの設定&確認\n",
        "編集 -> ノートブックの設定で、ランタイムのタイプはpython3、ハードウェアアクセラレータはGPUにする。"
      ]
    },
    {
      "metadata": {
        "id": "S6OjJQBjIfna",
        "colab_type": "code",
        "colab": {}
      },
      "cell_type": "code",
      "source": [
        "\"\"\"\n",
        "import chainer\n",
        "print('GPU availability:', chainer.cuda.available)\n",
        "print('cuDNN availablility:', chainer.cuda.cudnn_enabled)\n",
        "\"\"\"\n",
        "import tensorflow as tf\n",
        "tf.test.gpu_device_name()"
      ],
      "execution_count": 0,
      "outputs": []
    },
    {
      "metadata": {
        "id": "rJZaIIaUF7wY",
        "colab_type": "text"
      },
      "cell_type": "markdown",
      "source": [
        "## 2. AEモデル&ライブラリのインストール"
      ]
    },
    {
      "metadata": {
        "id": "2kERVc0yy3SK",
        "colab_type": "code",
        "colab": {}
      },
      "cell_type": "code",
      "source": [
        "!git clone https://github.com/Obarads/chainer-pointnet-autoencoder.git\n",
        "!pip install chainer\n",
        "!git clone https://github.com/corochann/chainerex.git\n",
        "!pip install -e chainerex\n",
        "!git clone https://github.com/pfnet-research/chainer-chemistry.git\n",
        "!pip install -e chainer-chemistry\n",
        "!pip install cupy-cuda92"
      ],
      "execution_count": 0,
      "outputs": []
    },
    {
      "metadata": {
        "id": "-FJyYm0zESM0",
        "colab_type": "text"
      },
      "cell_type": "markdown",
      "source": [
        "## 3. データセットのインストール"
      ]
    },
    {
      "metadata": {
        "id": "a1Xlsz844AF0",
        "colab_type": "code",
        "colab": {}
      },
      "cell_type": "code",
      "source": [
        "!wget https://shapenet.cs.stanford.edu/media/shapenetcore_partanno_segmentation_benchmark_v0.zip\n",
        "!unzip shapenetcore_partanno_segmentation_benchmark_v0.zip\n",
        "!mv shapenetcore_partanno_segmentation_benchmark_v0/ chainer-pointnet-autoencoder/data/"
      ],
      "execution_count": 0,
      "outputs": []
    },
    {
      "metadata": {
        "id": "9iS25F_tENCL",
        "colab_type": "text"
      },
      "cell_type": "markdown",
      "source": [
        "## 4. 実行"
      ]
    },
    {
      "metadata": {
        "id": "S_r0No-5RecP",
        "colab_type": "code",
        "colab": {}
      },
      "cell_type": "code",
      "source": [
        "!python chainer-pointnet-autoencoder/train.py --gpu=0"
      ],
      "execution_count": 0,
      "outputs": []
    }
  ]
}